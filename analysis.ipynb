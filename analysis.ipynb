{
 "cells": [
  {
   "cell_type": "markdown",
   "metadata": {
    "toc": true
   },
   "source": [
    "<h1>Table of Contents<span class=\"tocSkip\"></span></h1>\n",
    "<div class=\"toc\"><ul class=\"toc-item\"><li><span><a href=\"#Imports\" data-toc-modified-id=\"Imports-1\"><span class=\"toc-item-num\">1&nbsp;&nbsp;</span>Imports</a></span></li><li><span><a href=\"#Load-Data-(Gather)\" data-toc-modified-id=\"Load-Data-(Gather)-2\"><span class=\"toc-item-num\">2&nbsp;&nbsp;</span>Load Data (Gather)</a></span></li><li><span><a href=\"#Helper-Functions\" data-toc-modified-id=\"Helper-Functions-3\"><span class=\"toc-item-num\">3&nbsp;&nbsp;</span>Helper Functions</a></span></li><li><span><a href=\"#Data-understanding----EDA\" data-toc-modified-id=\"Data-understanding----EDA-4\"><span class=\"toc-item-num\">4&nbsp;&nbsp;</span>Data understanding  - EDA</a></span><ul class=\"toc-item\"><li><span><a href=\"#Overview\" data-toc-modified-id=\"Overview-4.1\"><span class=\"toc-item-num\">4.1&nbsp;&nbsp;</span>Overview</a></span></li><li><span><a href=\"#Missing-values\" data-toc-modified-id=\"Missing-values-4.2\"><span class=\"toc-item-num\">4.2&nbsp;&nbsp;</span>Missing values</a></span><ul class=\"toc-item\"><li><span><a href=\"#Per-Feature\" data-toc-modified-id=\"Per-Feature-4.2.1\"><span class=\"toc-item-num\">4.2.1&nbsp;&nbsp;</span>Per Feature</a></span></li></ul></li><li><span><a href=\"#Per-Row\" data-toc-modified-id=\"Per-Row-4.3\"><span class=\"toc-item-num\">4.3&nbsp;&nbsp;</span>Per Row</a></span></li></ul></li><li><span><a href=\"#Data-Preparation-(Preprocessing)\" data-toc-modified-id=\"Data-Preparation-(Preprocessing)-5\"><span class=\"toc-item-num\">5&nbsp;&nbsp;</span>Data Preparation (Preprocessing)</a></span><ul class=\"toc-item\"><li><ul class=\"toc-item\"><li><span><a href=\"#Create-data-flag-column\" data-toc-modified-id=\"Create-data-flag-column-5.0.1\"><span class=\"toc-item-num\">5.0.1&nbsp;&nbsp;</span>Create data flag column</a></span></li></ul></li></ul></li><li><span><a href=\"#Questions-(Modelling-and-Evaluation)\" data-toc-modified-id=\"Questions-(Modelling-and-Evaluation)-6\"><span class=\"toc-item-num\">6&nbsp;&nbsp;</span>Questions (Modelling and Evaluation)</a></span><ul class=\"toc-item\"><li><span><a href=\"#Which-proportion-of-developers-works-with-data?\" data-toc-modified-id=\"Which-proportion-of-developers-works-with-data?-6.1\"><span class=\"toc-item-num\">6.1&nbsp;&nbsp;</span>Which proportion of developers works with data?</a></span></li><li><span><a href=\"#Any-differences-in-working-habits?\" data-toc-modified-id=\"Any-differences-in-working-habits?-6.2\"><span class=\"toc-item-num\">6.2&nbsp;&nbsp;</span>Any differences in working habits?</a></span><ul class=\"toc-item\"><li><span><a href=\"#Difference-in-remote-working-habits\" data-toc-modified-id=\"Difference-in-remote-working-habits-6.2.1\"><span class=\"toc-item-num\">6.2.1&nbsp;&nbsp;</span>Difference in remote working habits</a></span></li><li><span><a href=\"#Difference-in-working-hours\" data-toc-modified-id=\"Difference-in-working-hours-6.2.2\"><span class=\"toc-item-num\">6.2.2&nbsp;&nbsp;</span>Difference in working hours</a></span></li></ul></li><li><span><a href=\"#Difference-in-job-satisfaction\" data-toc-modified-id=\"Difference-in-job-satisfaction-6.3\"><span class=\"toc-item-num\">6.3&nbsp;&nbsp;</span>Difference in job satisfaction</a></span></li></ul></li><li><span><a href=\"#References---Sources\" data-toc-modified-id=\"References---Sources-7\"><span class=\"toc-item-num\">7&nbsp;&nbsp;</span>References - Sources</a></span></li></ul></div>"
   ]
  },
  {
   "cell_type": "markdown",
   "metadata": {},
   "source": [
    "## Imports"
   ]
  },
  {
   "cell_type": "code",
   "execution_count": 1,
   "metadata": {
    "ExecuteTime": {
     "end_time": "2018-09-05T15:15:05.987067Z",
     "start_time": "2018-09-05T15:15:05.314770Z"
    }
   },
   "outputs": [],
   "source": [
    "# import libraries here; add more as necessary\n",
    "import numpy as np\n",
    "import pandas as pd\n",
    "import matplotlib.pyplot as plt\n",
    "import seaborn as sns\n",
    "from collections import defaultdict\n",
    "from IPython.core.display import HTML\n",
    "\n",
    "from sklearn.preprocessing import Imputer\n",
    "from sklearn.preprocessing import StandardScaler\n",
    "from sklearn.decomposition import PCA\n",
    "from sklearn.cluster import KMeans \n",
    "\n",
    "# Set base plotting style\n",
    "plt.style.use('seaborn-ticks')\n",
    "# # Set base plotting size\n",
    "plt.rcParams['figure.figsize'] = 14, 9\n",
    "# Magic word for producing visualizations in notebook\n",
    "%matplotlib inline\n",
    "# Increase figure resolution for high dpi screens\n",
    "%config InlineBackend.figure_format = 'retina'\n",
    "# Autoreload modules\n",
    "%load_ext autoreload\n",
    "%autoreload 2"
   ]
  },
  {
   "cell_type": "markdown",
   "metadata": {},
   "source": [
    "## Load Data (Gather)"
   ]
  },
  {
   "cell_type": "code",
   "execution_count": 2,
   "metadata": {
    "ExecuteTime": {
     "end_time": "2018-09-05T15:15:07.258439Z",
     "start_time": "2018-09-05T15:15:05.988404Z"
    }
   },
   "outputs": [],
   "source": [
    "df = pd.read_csv('data/survey-results-public.csv')\n",
    "schema = pd.read_csv('data/survey-results-schema.csv')## Load Data (Gather)"
   ]
  },
  {
   "cell_type": "markdown",
   "metadata": {},
   "source": [
    "## Helper Functions"
   ]
  },
  {
   "cell_type": "code",
   "execution_count": 3,
   "metadata": {
    "ExecuteTime": {
     "end_time": "2018-09-05T15:15:07.497721Z",
     "start_time": "2018-09-05T15:15:07.259857Z"
    }
   },
   "outputs": [],
   "source": [
    "def hist_box_plot(x, x_label, y_label, bin_incr):\n",
    "    '''Take an array as input and draw a histogram with a boxblot above it'''\n",
    "    f, (ax_box, ax_hist) = plt.subplots(2,\n",
    "                                        sharex=True,\n",
    "                                        gridspec_kw={\n",
    "                                            \"height_ratios\": (.15, .85)},\n",
    "                                        figsize=(14, 6))\n",
    "\n",
    "    sns.boxplot(x, ax=ax_box)\n",
    "    bins = np.arange(0, x.max() + bin_incr, bin_incr)\n",
    "    x.hist(grid=False, bins=bins)\n",
    "    ax_box.set(yticks=[])\n",
    "    ax_hist.set_ylabel(y_label)\n",
    "    ax_hist.set_xlabel(x_label)\n",
    "    sns.despine(ax=ax_hist)\n",
    "    sns.despine(ax=ax_box, left=True)\n",
    "\n",
    "def get_description(column_name, schema=schema):\n",
    "    '''Returns decription on column based on data schema\n",
    "    \n",
    "    Parameters\n",
    "    ----------\n",
    "    column_name : string \n",
    "        the desired columnto return description\n",
    "    schema : pandas.DataFrame\n",
    "        the dtaframe containing the data schema to be parsed\n",
    "        \n",
    "    Returns\n",
    "    -------\n",
    "    desc : string\n",
    "        the description of the column\n",
    "            \n",
    "    '''\n",
    "    return schema[schema.Column == column_name].Question.values[0]\n",
    "\n",
    "def print_perc_nans(df, col):\n",
    "    '''Prints percentage of NaNs in a pandas series'''\n",
    "    \n",
    "    print(f'Percentage of NaNs in {col}: ',\n",
    "          round(df[col].isna().mean() * 100, 2),\n",
    "          '%')\n",
    "    \n",
    "def group(df, group_col, val_col):\n",
    "    '''groupby and return grouped'''\n",
    "    props = (df.groupby([group_col])[val_col]\n",
    "                 .value_counts(normalize=True)\n",
    "                 .rename('percentage')\n",
    "                 .mul(100) \n",
    "                 .reset_index()\n",
    "                 .sort_values(val_col))\n",
    "    return props\n",
    "\n",
    "def group_plot(df, group_col, val_col, prop=True, orient='h', figsize=(14,8)):\n",
    "    '''group by group col and val_col and plot a barplot'''\n",
    "    plt.figure(figsize=(14,8))\n",
    "    props = (df.groupby([group_col])[val_col]\n",
    "                 .value_counts(normalize=True)\n",
    "                 .rename('percentage')\n",
    "                 .mul(100) \n",
    "                 .reset_index()\n",
    "                 .sort_values(val_col))\n",
    "    \n",
    "    order=['Data Science Developer', 'Other Developer']\n",
    "    \n",
    "    if orient == 'h':\n",
    "        p = sns.barplot(y=val_col, x='percentage', hue=group_col, hue_order=order,\n",
    "                        estimator=np.mean, data=props) \n",
    "    else:\n",
    "        p = sns.barplot(x=val_col, y='percentage', hue=group_col,\n",
    "                        hue_order=order, estimator=np.mean, data=props) \n",
    "        \n",
    "    plt.legend(title='')\n",
    "    sns.despine(top=True, right=True, left=False, bottom=False);\n",
    "    \n",
    "def Groupby_OneCol_comp_plot(df, col, plt_style = 'seaborn-ticks', color_palette = \"pastel\", title=''):\n",
    "    '''\n",
    "    Group by col1, sort by size , return and plot the dataframe with a bar and pie plot\n",
    "    '''\n",
    "    opacity=0.85\n",
    "    gr=pd.DataFrame()\n",
    "    gr['{} No'.format(col)] = df.groupby(col).size()\n",
    "    gr['{} Ratio'.format(col)] = np.round(gr['{} No'.format(col)].divide(gr['{} No'.format(col)].sum())*100,0)\n",
    "    \n",
    "    print ('Total No. of {}:{}'.format(col,gr['{} No'.format(col)].sum()))\n",
    "    \n",
    "    plt.style.use(plt_style)\n",
    "    sns.set_palette(sns.color_palette(color_palette))\n",
    "    \n",
    "    \n",
    "    fig=plt.figure()\n",
    "    plt.axis('off')\n",
    "\n",
    "    fig.add_subplot(121)\n",
    "    \n",
    "    ax=gr['{} No'.format(col)].plot(kind='bar', title='{} Counts'.format(title), figsize=(16,8),\n",
    "                                    color=sns.color_palette(),\n",
    "                                    alpha=opacity)\n",
    "    _ = plt.setp(ax.get_xticklabels(), rotation=0)\n",
    "    for p in ax.patches: ax.annotate(np.round(p.get_height(),decimals=2),\n",
    "                                     (p.get_x()+p.get_width()/2., p.get_height()),\n",
    "                                     ha='center', va='center', xytext=(0, 10), textcoords='offset points')\n",
    "    ax.get_yaxis().set_ticks([])\n",
    "    plt.xlabel('')\n",
    "\n",
    "    fig.add_subplot(122)\n",
    "    plt.axis('off')\n",
    "    p = gr.loc[:,'{} Ratio'.format(col)].plot(kind= 'pie',\n",
    "                                     autopct='%1.1f%%',shadow=False,\n",
    "                                     title='{} Ratio'.format(title), legend=False, labels=None);\n",
    "\n",
    "    sns.despine(top=True, right=True, left=True, bottom=False);"
   ]
  },
  {
   "cell_type": "markdown",
   "metadata": {},
   "source": [
    "## Data understanding  - EDA"
   ]
  },
  {
   "cell_type": "markdown",
   "metadata": {
    "ExecuteTime": {
     "end_time": "2018-09-05T13:47:49.937805Z",
     "start_time": "2018-09-05T13:47:49.911991Z"
    }
   },
   "source": [
    "### Overview"
   ]
  },
  {
   "cell_type": "code",
   "execution_count": 4,
   "metadata": {
    "ExecuteTime": {
     "end_time": "2018-09-05T15:15:07.535362Z",
     "start_time": "2018-09-05T15:15:07.499659Z"
    }
   },
   "outputs": [
    {
     "data": {
      "text/html": [
       "<div>\n",
       "<style scoped>\n",
       "    .dataframe tbody tr th:only-of-type {\n",
       "        vertical-align: middle;\n",
       "    }\n",
       "\n",
       "    .dataframe tbody tr th {\n",
       "        vertical-align: top;\n",
       "    }\n",
       "\n",
       "    .dataframe thead th {\n",
       "        text-align: right;\n",
       "    }\n",
       "</style>\n",
       "<table border=\"1\" class=\"dataframe\">\n",
       "  <thead>\n",
       "    <tr style=\"text-align: right;\">\n",
       "      <th></th>\n",
       "      <th>Respondent</th>\n",
       "      <th>Professional</th>\n",
       "      <th>ProgramHobby</th>\n",
       "      <th>Country</th>\n",
       "      <th>University</th>\n",
       "      <th>EmploymentStatus</th>\n",
       "      <th>FormalEducation</th>\n",
       "      <th>MajorUndergrad</th>\n",
       "      <th>HomeRemote</th>\n",
       "      <th>CompanySize</th>\n",
       "      <th>...</th>\n",
       "      <th>StackOverflowMakeMoney</th>\n",
       "      <th>Gender</th>\n",
       "      <th>HighestEducationParents</th>\n",
       "      <th>Race</th>\n",
       "      <th>SurveyLong</th>\n",
       "      <th>QuestionsInteresting</th>\n",
       "      <th>QuestionsConfusing</th>\n",
       "      <th>InterestedAnswers</th>\n",
       "      <th>Salary</th>\n",
       "      <th>ExpectedSalary</th>\n",
       "    </tr>\n",
       "  </thead>\n",
       "  <tbody>\n",
       "    <tr>\n",
       "      <th>0</th>\n",
       "      <td>1</td>\n",
       "      <td>Student</td>\n",
       "      <td>Yes, both</td>\n",
       "      <td>United States</td>\n",
       "      <td>No</td>\n",
       "      <td>Not employed, and not looking for work</td>\n",
       "      <td>Secondary school</td>\n",
       "      <td>NaN</td>\n",
       "      <td>NaN</td>\n",
       "      <td>NaN</td>\n",
       "      <td>...</td>\n",
       "      <td>Strongly disagree</td>\n",
       "      <td>Male</td>\n",
       "      <td>High school</td>\n",
       "      <td>White or of European descent</td>\n",
       "      <td>Strongly disagree</td>\n",
       "      <td>Strongly agree</td>\n",
       "      <td>Disagree</td>\n",
       "      <td>Strongly agree</td>\n",
       "      <td>NaN</td>\n",
       "      <td>NaN</td>\n",
       "    </tr>\n",
       "    <tr>\n",
       "      <th>1</th>\n",
       "      <td>2</td>\n",
       "      <td>Student</td>\n",
       "      <td>Yes, both</td>\n",
       "      <td>United Kingdom</td>\n",
       "      <td>Yes, full-time</td>\n",
       "      <td>Employed part-time</td>\n",
       "      <td>Some college/university study without earning ...</td>\n",
       "      <td>Computer science or software engineering</td>\n",
       "      <td>More than half, but not all, the time</td>\n",
       "      <td>20 to 99 employees</td>\n",
       "      <td>...</td>\n",
       "      <td>Strongly disagree</td>\n",
       "      <td>Male</td>\n",
       "      <td>A master's degree</td>\n",
       "      <td>White or of European descent</td>\n",
       "      <td>Somewhat agree</td>\n",
       "      <td>Somewhat agree</td>\n",
       "      <td>Disagree</td>\n",
       "      <td>Strongly agree</td>\n",
       "      <td>NaN</td>\n",
       "      <td>37500.0</td>\n",
       "    </tr>\n",
       "    <tr>\n",
       "      <th>2</th>\n",
       "      <td>3</td>\n",
       "      <td>Professional developer</td>\n",
       "      <td>Yes, both</td>\n",
       "      <td>United Kingdom</td>\n",
       "      <td>No</td>\n",
       "      <td>Employed full-time</td>\n",
       "      <td>Bachelor's degree</td>\n",
       "      <td>Computer science or software engineering</td>\n",
       "      <td>Less than half the time, but at least one day ...</td>\n",
       "      <td>10,000 or more employees</td>\n",
       "      <td>...</td>\n",
       "      <td>Disagree</td>\n",
       "      <td>Male</td>\n",
       "      <td>A professional degree</td>\n",
       "      <td>White or of European descent</td>\n",
       "      <td>Somewhat agree</td>\n",
       "      <td>Agree</td>\n",
       "      <td>Disagree</td>\n",
       "      <td>Agree</td>\n",
       "      <td>113750.0</td>\n",
       "      <td>NaN</td>\n",
       "    </tr>\n",
       "    <tr>\n",
       "      <th>3</th>\n",
       "      <td>4</td>\n",
       "      <td>Professional non-developer who sometimes write...</td>\n",
       "      <td>Yes, both</td>\n",
       "      <td>United States</td>\n",
       "      <td>No</td>\n",
       "      <td>Employed full-time</td>\n",
       "      <td>Doctoral degree</td>\n",
       "      <td>A non-computer-focused engineering discipline</td>\n",
       "      <td>Less than half the time, but at least one day ...</td>\n",
       "      <td>10,000 or more employees</td>\n",
       "      <td>...</td>\n",
       "      <td>Disagree</td>\n",
       "      <td>Male</td>\n",
       "      <td>A doctoral degree</td>\n",
       "      <td>White or of European descent</td>\n",
       "      <td>Agree</td>\n",
       "      <td>Agree</td>\n",
       "      <td>Somewhat agree</td>\n",
       "      <td>Strongly agree</td>\n",
       "      <td>NaN</td>\n",
       "      <td>NaN</td>\n",
       "    </tr>\n",
       "    <tr>\n",
       "      <th>4</th>\n",
       "      <td>5</td>\n",
       "      <td>Professional developer</td>\n",
       "      <td>Yes, I program as a hobby</td>\n",
       "      <td>Switzerland</td>\n",
       "      <td>No</td>\n",
       "      <td>Employed full-time</td>\n",
       "      <td>Master's degree</td>\n",
       "      <td>Computer science or software engineering</td>\n",
       "      <td>Never</td>\n",
       "      <td>10 to 19 employees</td>\n",
       "      <td>...</td>\n",
       "      <td>NaN</td>\n",
       "      <td>NaN</td>\n",
       "      <td>NaN</td>\n",
       "      <td>NaN</td>\n",
       "      <td>NaN</td>\n",
       "      <td>NaN</td>\n",
       "      <td>NaN</td>\n",
       "      <td>NaN</td>\n",
       "      <td>NaN</td>\n",
       "      <td>NaN</td>\n",
       "    </tr>\n",
       "  </tbody>\n",
       "</table>\n",
       "<p>5 rows × 154 columns</p>\n",
       "</div>"
      ],
      "text/plain": [
       "   Respondent                                       Professional  \\\n",
       "0           1                                            Student   \n",
       "1           2                                            Student   \n",
       "2           3                             Professional developer   \n",
       "3           4  Professional non-developer who sometimes write...   \n",
       "4           5                             Professional developer   \n",
       "\n",
       "                ProgramHobby         Country      University  \\\n",
       "0                  Yes, both   United States              No   \n",
       "1                  Yes, both  United Kingdom  Yes, full-time   \n",
       "2                  Yes, both  United Kingdom              No   \n",
       "3                  Yes, both   United States              No   \n",
       "4  Yes, I program as a hobby     Switzerland              No   \n",
       "\n",
       "                         EmploymentStatus  \\\n",
       "0  Not employed, and not looking for work   \n",
       "1                      Employed part-time   \n",
       "2                      Employed full-time   \n",
       "3                      Employed full-time   \n",
       "4                      Employed full-time   \n",
       "\n",
       "                                     FormalEducation  \\\n",
       "0                                   Secondary school   \n",
       "1  Some college/university study without earning ...   \n",
       "2                                  Bachelor's degree   \n",
       "3                                    Doctoral degree   \n",
       "4                                    Master's degree   \n",
       "\n",
       "                                  MajorUndergrad  \\\n",
       "0                                            NaN   \n",
       "1       Computer science or software engineering   \n",
       "2       Computer science or software engineering   \n",
       "3  A non-computer-focused engineering discipline   \n",
       "4       Computer science or software engineering   \n",
       "\n",
       "                                          HomeRemote  \\\n",
       "0                                                NaN   \n",
       "1              More than half, but not all, the time   \n",
       "2  Less than half the time, but at least one day ...   \n",
       "3  Less than half the time, but at least one day ...   \n",
       "4                                              Never   \n",
       "\n",
       "                CompanySize       ...       StackOverflowMakeMoney Gender  \\\n",
       "0                       NaN       ...            Strongly disagree   Male   \n",
       "1        20 to 99 employees       ...            Strongly disagree   Male   \n",
       "2  10,000 or more employees       ...                     Disagree   Male   \n",
       "3  10,000 or more employees       ...                     Disagree   Male   \n",
       "4        10 to 19 employees       ...                          NaN    NaN   \n",
       "\n",
       "  HighestEducationParents                          Race         SurveyLong  \\\n",
       "0             High school  White or of European descent  Strongly disagree   \n",
       "1       A master's degree  White or of European descent     Somewhat agree   \n",
       "2   A professional degree  White or of European descent     Somewhat agree   \n",
       "3       A doctoral degree  White or of European descent              Agree   \n",
       "4                     NaN                           NaN                NaN   \n",
       "\n",
       "  QuestionsInteresting QuestionsConfusing InterestedAnswers    Salary  \\\n",
       "0       Strongly agree           Disagree    Strongly agree       NaN   \n",
       "1       Somewhat agree           Disagree    Strongly agree       NaN   \n",
       "2                Agree           Disagree             Agree  113750.0   \n",
       "3                Agree     Somewhat agree    Strongly agree       NaN   \n",
       "4                  NaN                NaN               NaN       NaN   \n",
       "\n",
       "   ExpectedSalary  \n",
       "0             NaN  \n",
       "1         37500.0  \n",
       "2             NaN  \n",
       "3             NaN  \n",
       "4             NaN  \n",
       "\n",
       "[5 rows x 154 columns]"
      ]
     },
     "execution_count": 4,
     "metadata": {},
     "output_type": "execute_result"
    }
   ],
   "source": [
    "df.head()"
   ]
  },
  {
   "cell_type": "code",
   "execution_count": 5,
   "metadata": {
    "ExecuteTime": {
     "end_time": "2018-09-05T15:15:07.549782Z",
     "start_time": "2018-09-05T15:15:07.536805Z"
    }
   },
   "outputs": [
    {
     "data": {
      "text/plain": [
       "(51392, 154)"
      ]
     },
     "execution_count": 5,
     "metadata": {},
     "output_type": "execute_result"
    }
   ],
   "source": [
    "df.shape"
   ]
  },
  {
   "cell_type": "code",
   "execution_count": 6,
   "metadata": {
    "ExecuteTime": {
     "end_time": "2018-09-05T15:15:07.567394Z",
     "start_time": "2018-09-05T15:15:07.551238Z"
    }
   },
   "outputs": [
    {
     "data": {
      "text/html": [
       "<div>\n",
       "<style scoped>\n",
       "    .dataframe tbody tr th:only-of-type {\n",
       "        vertical-align: middle;\n",
       "    }\n",
       "\n",
       "    .dataframe tbody tr th {\n",
       "        vertical-align: top;\n",
       "    }\n",
       "\n",
       "    .dataframe thead th {\n",
       "        text-align: right;\n",
       "    }\n",
       "</style>\n",
       "<table border=\"1\" class=\"dataframe\">\n",
       "  <thead>\n",
       "    <tr style=\"text-align: right;\">\n",
       "      <th></th>\n",
       "      <th>Column</th>\n",
       "      <th>Question</th>\n",
       "    </tr>\n",
       "  </thead>\n",
       "  <tbody>\n",
       "    <tr>\n",
       "      <th>0</th>\n",
       "      <td>Respondent</td>\n",
       "      <td>Respondent ID number</td>\n",
       "    </tr>\n",
       "    <tr>\n",
       "      <th>1</th>\n",
       "      <td>Professional</td>\n",
       "      <td>Which of the following best describes you?</td>\n",
       "    </tr>\n",
       "    <tr>\n",
       "      <th>2</th>\n",
       "      <td>ProgramHobby</td>\n",
       "      <td>Do you program as a hobby or contribute to ope...</td>\n",
       "    </tr>\n",
       "    <tr>\n",
       "      <th>3</th>\n",
       "      <td>Country</td>\n",
       "      <td>In which country do you currently live?</td>\n",
       "    </tr>\n",
       "    <tr>\n",
       "      <th>4</th>\n",
       "      <td>University</td>\n",
       "      <td>Are you currently enrolled in a formal, degree...</td>\n",
       "    </tr>\n",
       "  </tbody>\n",
       "</table>\n",
       "</div>"
      ],
      "text/plain": [
       "         Column                                           Question\n",
       "0    Respondent                               Respondent ID number\n",
       "1  Professional         Which of the following best describes you?\n",
       "2  ProgramHobby  Do you program as a hobby or contribute to ope...\n",
       "3       Country            In which country do you currently live?\n",
       "4    University  Are you currently enrolled in a formal, degree..."
      ]
     },
     "execution_count": 6,
     "metadata": {},
     "output_type": "execute_result"
    }
   ],
   "source": [
    "schema.head()"
   ]
  },
  {
   "cell_type": "markdown",
   "metadata": {},
   "source": [
    "### Missing values"
   ]
  },
  {
   "cell_type": "code",
   "execution_count": 7,
   "metadata": {
    "ExecuteTime": {
     "end_time": "2018-09-05T15:15:07.968292Z",
     "start_time": "2018-09-05T15:15:07.568666Z"
    }
   },
   "outputs": [
    {
     "name": "stdout",
     "output_type": "stream",
     "text": [
      "Total percentage of Nans:  45.32 %\n"
     ]
    }
   ],
   "source": [
    "# How many nans?\n",
    "print('Total percentage of Nans: ',\n",
    "      round(df.isnull().sum().sum() / np.product(df.shape) * 100, 2),\n",
    "      '%')"
   ]
  },
  {
   "cell_type": "markdown",
   "metadata": {},
   "source": [
    "####  Per Feature"
   ]
  },
  {
   "cell_type": "code",
   "execution_count": 8,
   "metadata": {
    "ExecuteTime": {
     "end_time": "2018-09-05T15:15:08.259971Z",
     "start_time": "2018-09-05T15:15:07.970215Z"
    }
   },
   "outputs": [],
   "source": [
    "feat_nan_perc = df.isnull().mean()"
   ]
  },
  {
   "cell_type": "code",
   "execution_count": 9,
   "metadata": {
    "ExecuteTime": {
     "end_time": "2018-09-05T15:15:08.578555Z",
     "start_time": "2018-09-05T15:15:08.261854Z"
    }
   },
   "outputs": [
    {
     "data": {
      "image/png": "[encoded data removed]",
      "text/plain": [
       "<Figure size 1008x432 with 2 Axes>"
      ]
     },
     "metadata": {
      "image/png": {
       "height": 376,
       "width": 832
      }
     },
     "output_type": "display_data"
    }
   ],
   "source": [
    "hist_box_plot(feat_nan_perc, x_label='Proportion of missing values', y_label='No. of features', bin_incr=0.05);"
   ]
  },
  {
   "cell_type": "markdown",
   "metadata": {},
   "source": [
    "The biggest percentage of columns has 30 - 60 % missing values with two peaks at around 40% and just below 60%. There is also a spike of features with a percentage of missing values close to 100 %. Features with a percentage of missing values above 80% ca be considered outliers and not containing enough usefull infomation and will be dropped for this analysis."
   ]
  },
  {
   "cell_type": "code",
   "execution_count": 10,
   "metadata": {
    "ExecuteTime": {
     "end_time": "2018-09-05T15:15:08.876531Z",
     "start_time": "2018-09-05T15:15:08.579937Z"
    }
   },
   "outputs": [
    {
     "data": {
      "text/plain": [
       "InfluenceConsultants    0.580771\n",
       "Currency                0.583437\n",
       "HoursPerWeek            0.599159\n",
       "HaveWorkedFramework     0.606378\n",
       "Overpaid                0.739512\n",
       "Salary                  0.749163\n",
       "WebDeveloperType        0.791874\n",
       "NonDeveloperType        0.904849\n",
       "TimeAfterBootcamp       0.949370\n",
       "ExpectedSalary          0.950070\n",
       "MobileDeveloperType     0.969781\n",
       "YearsCodedJobPast       0.981048\n",
       "ExCoderSkills           0.981807\n",
       "ExCoderActive           0.981904\n",
       "ExCoderBelonged         0.981943\n",
       "ExCoderBalance          0.982040\n",
       "ExCoderReturn           0.982040\n",
       "ExCoderWillNotCode      0.982059\n",
       "ExCoderNotForMe         0.982079\n",
       "ExCoder10Years          0.982157\n",
       "dtype: float64"
      ]
     },
     "execution_count": 10,
     "metadata": {},
     "output_type": "execute_result"
    }
   ],
   "source": [
    "df.isnull().mean().sort_values()[-20::]"
   ]
  },
  {
   "cell_type": "code",
   "execution_count": 11,
   "metadata": {
    "ExecuteTime": {
     "end_time": "2018-09-05T15:15:09.405241Z",
     "start_time": "2018-09-05T15:15:08.878465Z"
    }
   },
   "outputs": [
    {
     "data": {
      "image/png": "[encoded data removed]",
      "text/plain": [
       "<Figure size 432x288 with 1 Axes>"
      ]
     },
     "metadata": {
      "image/png": {
       "height": 253,
       "width": 469
      }
     },
     "output_type": "display_data"
    }
   ],
   "source": [
    "df.isnull().mean().sort_values()[-20::].plot(kind='barh', color='b');"
   ]
  },
  {
   "cell_type": "code",
   "execution_count": 12,
   "metadata": {
    "ExecuteTime": {
     "end_time": "2018-09-05T15:15:09.703368Z",
     "start_time": "2018-09-05T15:15:09.406378Z"
    }
   },
   "outputs": [
    {
     "data": {
      "text/plain": [
       "Index(['YearsCodedJobPast', 'MobileDeveloperType', 'NonDeveloperType',\n",
       "       'ExCoderReturn', 'ExCoderNotForMe', 'ExCoderBalance', 'ExCoder10Years',\n",
       "       'ExCoderBelonged', 'ExCoderSkills', 'ExCoderWillNotCode',\n",
       "       'ExCoderActive', 'TimeAfterBootcamp', 'ExpectedSalary'],\n",
       "      dtype='object')"
      ]
     },
     "execution_count": 12,
     "metadata": {},
     "output_type": "execute_result"
    }
   ],
   "source": [
    "high_nan_features = df.columns[df.isnull().mean() > 0.8]\n",
    "high_nan_features"
   ]
  },
  {
   "cell_type": "code",
   "execution_count": 13,
   "metadata": {
    "ExecuteTime": {
     "end_time": "2018-09-05T15:15:09.718038Z",
     "start_time": "2018-09-05T15:15:09.705173Z"
    }
   },
   "outputs": [
    {
     "data": {
      "text/plain": [
       "13"
      ]
     },
     "execution_count": 13,
     "metadata": {},
     "output_type": "execute_result"
    }
   ],
   "source": [
    "len(high_nan_features)"
   ]
  },
  {
   "cell_type": "markdown",
   "metadata": {},
   "source": [
    "There are 13 features with NaNs above 80% - 6 of them refer to the `Excoder` category. `ExpectedSalary` has 95% missing values."
   ]
  },
  {
   "cell_type": "markdown",
   "metadata": {},
   "source": [
    "### Per Row"
   ]
  },
  {
   "cell_type": "code",
   "execution_count": 14,
   "metadata": {
    "ExecuteTime": {
     "end_time": "2018-09-05T15:15:10.015246Z",
     "start_time": "2018-09-05T15:15:09.719347Z"
    }
   },
   "outputs": [],
   "source": [
    "row_nan_perc = df.isnull().mean(axis=1) "
   ]
  },
  {
   "cell_type": "code",
   "execution_count": 15,
   "metadata": {
    "ExecuteTime": {
     "end_time": "2018-09-05T15:15:10.495260Z",
     "start_time": "2018-09-05T15:15:10.016501Z"
    }
   },
   "outputs": [
    {
     "data": {
      "image/png": "[encoded data removed]",
      "text/plain": [
       "<Figure size 1008x432 with 2 Axes>"
      ]
     },
     "metadata": {
      "image/png": {
       "height": 376,
       "width": 843
      }
     },
     "output_type": "display_data"
    }
   ],
   "source": [
    "hist_box_plot(row_nan_perc, x_label='Proportion of missing values', y_label='No. of rows', bin_incr=0.01);"
   ]
  },
  {
   "cell_type": "markdown",
   "metadata": {},
   "source": [
    "Looks like a bimodal distribution with one distribution centered around the median of 30% missing values and the smaller one around 90% of missing values"
   ]
  },
  {
   "cell_type": "markdown",
   "metadata": {},
   "source": [
    "## Data Preparation (Preprocessing)"
   ]
  },
  {
   "cell_type": "markdown",
   "metadata": {},
   "source": [
    "We will drop the features with a percentage of NaNs over 80% and keep the rows treating each feature we exam below individually."
   ]
  },
  {
   "cell_type": "code",
   "execution_count": 16,
   "metadata": {
    "ExecuteTime": {
     "end_time": "2018-09-05T15:15:10.838839Z",
     "start_time": "2018-09-05T15:15:10.496755Z"
    }
   },
   "outputs": [],
   "source": [
    "# Drop the high NaN features\n",
    "high_nan_features = df.columns[df.isnull().mean() > 0.8]\n",
    "df = df.drop(columns=high_nan_features)"
   ]
  },
  {
   "cell_type": "code",
   "execution_count": 17,
   "metadata": {
    "ExecuteTime": {
     "end_time": "2018-09-05T15:15:10.853430Z",
     "start_time": "2018-09-05T15:15:10.840365Z"
    }
   },
   "outputs": [
    {
     "data": {
      "text/plain": [
       "(51392, 141)"
      ]
     },
     "execution_count": 17,
     "metadata": {},
     "output_type": "execute_result"
    }
   ],
   "source": [
    "df.shape"
   ]
  },
  {
   "cell_type": "markdown",
   "metadata": {},
   "source": [
    "#### Create data flag column"
   ]
  },
  {
   "cell_type": "code",
   "execution_count": 18,
   "metadata": {
    "ExecuteTime": {
     "end_time": "2018-09-05T15:15:10.870780Z",
     "start_time": "2018-09-05T15:15:10.854694Z"
    }
   },
   "outputs": [
    {
     "data": {
      "text/plain": [
       "array(['Student', 'Professional developer',\n",
       "       'Professional non-developer who sometimes writes code',\n",
       "       'Used to be a professional developer', 'None of these'],\n",
       "      dtype=object)"
      ]
     },
     "execution_count": 18,
     "metadata": {},
     "output_type": "execute_result"
    }
   ],
   "source": [
    "df.Professional.unique()"
   ]
  },
  {
   "cell_type": "code",
   "execution_count": 19,
   "metadata": {
    "ExecuteTime": {
     "end_time": "2018-09-05T15:15:10.886237Z",
     "start_time": "2018-09-05T15:15:10.872161Z"
    }
   },
   "outputs": [
    {
     "data": {
      "text/plain": [
       "'Which of the following best describe you?'"
      ]
     },
     "execution_count": 19,
     "metadata": {},
     "output_type": "execute_result"
    }
   ],
   "source": [
    "get_description('DeveloperType')"
   ]
  },
  {
   "cell_type": "markdown",
   "metadata": {},
   "source": [
    "The `DeveloperType` is the column of interest here. We will filter all the entries that contaiin the word Data or Machine to get the data professionals of all types.  \n",
    "It could be interesting to see the following:\n",
    "- What kind of jobs do data professionals do and at which percentages?\n",
    "- Which are the most common job descriptons that they declare along with their data proffesion? \n",
    "- Is there a special meaning to which job is mentioned first?"
   ]
  },
  {
   "cell_type": "code",
   "execution_count": 20,
   "metadata": {
    "ExecuteTime": {
     "end_time": "2018-09-05T15:15:11.001459Z",
     "start_time": "2018-09-05T15:15:10.887627Z"
    }
   },
   "outputs": [],
   "source": [
    "devtypes = []\n",
    "for dev in df.DeveloperType.str.split(';').dropna():\n",
    "    for devtype in dev:\n",
    "        devtype = devtype.strip()\n",
    "        if devtype not in devtypes:\n",
    "                devtypes.append(devtype)"
   ]
  },
  {
   "cell_type": "code",
   "execution_count": 21,
   "metadata": {
    "ExecuteTime": {
     "end_time": "2018-09-05T15:15:11.016744Z",
     "start_time": "2018-09-05T15:15:11.003094Z"
    }
   },
   "outputs": [
    {
     "data": {
      "text/plain": [
       "['Other',\n",
       " 'Mobile developer',\n",
       " 'Graphics programming',\n",
       " 'Desktop applications developer',\n",
       " 'Web developer',\n",
       " 'Embedded applications/devices developer',\n",
       " 'DevOps specialist',\n",
       " 'Quality assurance engineer',\n",
       " 'Data scientist',\n",
       " 'Machine learning specialist',\n",
       " 'Developer with a statistics or mathematics background',\n",
       " 'Database administrator',\n",
       " 'Systems administrator',\n",
       " 'Graphic designer']"
      ]
     },
     "execution_count": 21,
     "metadata": {},
     "output_type": "execute_result"
    }
   ],
   "source": [
    "devtypes "
   ]
  },
  {
   "cell_type": "markdown",
   "metadata": {},
   "source": [
    "Let's first see which are the possible values here by slitting the strings"
   ]
  },
  {
   "cell_type": "code",
   "execution_count": 22,
   "metadata": {
    "ExecuteTime": {
     "end_time": "2018-09-05T15:15:11.031590Z",
     "start_time": "2018-09-05T15:15:11.018377Z"
    }
   },
   "outputs": [],
   "source": [
    "data_devtypes = set([dev.strip() for dev in devtypes if 'Data scientist' in dev\n",
    "                                        or 'Machine' in dev\n",
    "                                        or 'statistics' in dev])"
   ]
  },
  {
   "cell_type": "code",
   "execution_count": 23,
   "metadata": {
    "ExecuteTime": {
     "end_time": "2018-09-05T15:15:11.046493Z",
     "start_time": "2018-09-05T15:15:11.032959Z"
    }
   },
   "outputs": [
    {
     "data": {
      "text/plain": [
       "{'Data scientist',\n",
       " 'Developer with a statistics or mathematics background',\n",
       " 'Machine learning specialist'}"
      ]
     },
     "execution_count": 23,
     "metadata": {},
     "output_type": "execute_result"
    }
   ],
   "source": [
    "data_devtypes"
   ]
  },
  {
   "cell_type": "markdown",
   "metadata": {
    "ExecuteTime": {
     "end_time": "2018-09-03T19:35:49.820060Z",
     "start_time": "2018-09-03T19:35:49.466849Z"
    }
   },
   "source": [
    "Replace all the Nones with np.nan for consistency"
   ]
  },
  {
   "cell_type": "code",
   "execution_count": 24,
   "metadata": {
    "ExecuteTime": {
     "end_time": "2018-09-05T15:15:11.372979Z",
     "start_time": "2018-09-05T15:15:11.048145Z"
    }
   },
   "outputs": [],
   "source": [
    "dev_types = df.DeveloperType.str.split(';', expand = True).apply(lambda x: x.str.strip()).replace({None: np.nan})"
   ]
  },
  {
   "cell_type": "markdown",
   "metadata": {},
   "source": [
    "Let's create a flag for `data scientists/machine learning specialists/Developer with a statistics or mathematics background`"
   ]
  },
  {
   "cell_type": "code",
   "execution_count": 25,
   "metadata": {
    "ExecuteTime": {
     "end_time": "2018-09-05T15:15:11.475678Z",
     "start_time": "2018-09-05T15:15:11.374371Z"
    }
   },
   "outputs": [],
   "source": [
    "# Create a flag column for data professionals\n",
    "df['is_data'] = 0\n",
    "for col in dev_types.columns:\n",
    "    df.loc[dev_types[col].isin(data_devtypes), 'is_data'] = 1"
   ]
  },
  {
   "cell_type": "markdown",
   "metadata": {},
   "source": [
    "## Questions (Modelling and Evaluation)"
   ]
  },
  {
   "cell_type": "markdown",
   "metadata": {},
   "source": [
    "### Which proportion of developers works with data?"
   ]
  },
  {
   "cell_type": "code",
   "execution_count": 26,
   "metadata": {
    "ExecuteTime": {
     "end_time": "2018-09-05T15:15:11.492418Z",
     "start_time": "2018-09-05T15:15:11.477534Z"
    }
   },
   "outputs": [
    {
     "data": {
      "text/plain": [
       "0    45039\n",
       "1     6353\n",
       "Name: is_data, dtype: int64"
      ]
     },
     "execution_count": 26,
     "metadata": {},
     "output_type": "execute_result"
    }
   ],
   "source": [
    "df.is_data.value_counts()"
   ]
  },
  {
   "cell_type": "markdown",
   "metadata": {},
   "source": [
    "Look like we have found 6353 individuals that have put data jobs in any position.\n"
   ]
  },
  {
   "cell_type": "code",
   "execution_count": 27,
   "metadata": {
    "ExecuteTime": {
     "end_time": "2018-09-05T15:15:11.513506Z",
     "start_time": "2018-09-05T15:15:11.493814Z"
    }
   },
   "outputs": [
    {
     "data": {
      "text/html": [
       "<div>\n",
       "<style scoped>\n",
       "    .dataframe tbody tr th:only-of-type {\n",
       "        vertical-align: middle;\n",
       "    }\n",
       "\n",
       "    .dataframe tbody tr th {\n",
       "        vertical-align: top;\n",
       "    }\n",
       "\n",
       "    .dataframe thead th {\n",
       "        text-align: right;\n",
       "    }\n",
       "</style>\n",
       "<table border=\"1\" class=\"dataframe\">\n",
       "  <thead>\n",
       "    <tr style=\"text-align: right;\">\n",
       "      <th></th>\n",
       "      <th>DeveloperType</th>\n",
       "      <th>is_data</th>\n",
       "    </tr>\n",
       "  </thead>\n",
       "  <tbody>\n",
       "    <tr>\n",
       "      <th>16811</th>\n",
       "      <td>Web developer</td>\n",
       "      <td>0</td>\n",
       "    </tr>\n",
       "    <tr>\n",
       "      <th>9326</th>\n",
       "      <td>Web developer; Desktop applications developer</td>\n",
       "      <td>0</td>\n",
       "    </tr>\n",
       "    <tr>\n",
       "      <th>10730</th>\n",
       "      <td>Web developer; Developer with a statistics or ...</td>\n",
       "      <td>1</td>\n",
       "    </tr>\n",
       "    <tr>\n",
       "      <th>29443</th>\n",
       "      <td>NaN</td>\n",
       "      <td>0</td>\n",
       "    </tr>\n",
       "    <tr>\n",
       "      <th>38499</th>\n",
       "      <td>NaN</td>\n",
       "      <td>0</td>\n",
       "    </tr>\n",
       "    <tr>\n",
       "      <th>3236</th>\n",
       "      <td>Web developer; Mobile developer</td>\n",
       "      <td>0</td>\n",
       "    </tr>\n",
       "    <tr>\n",
       "      <th>37629</th>\n",
       "      <td>NaN</td>\n",
       "      <td>0</td>\n",
       "    </tr>\n",
       "    <tr>\n",
       "      <th>24458</th>\n",
       "      <td>NaN</td>\n",
       "      <td>0</td>\n",
       "    </tr>\n",
       "    <tr>\n",
       "      <th>19225</th>\n",
       "      <td>DevOps specialist</td>\n",
       "      <td>0</td>\n",
       "    </tr>\n",
       "    <tr>\n",
       "      <th>17473</th>\n",
       "      <td>Web developer; Database administrator</td>\n",
       "      <td>0</td>\n",
       "    </tr>\n",
       "  </tbody>\n",
       "</table>\n",
       "</div>"
      ],
      "text/plain": [
       "                                           DeveloperType  is_data\n",
       "16811                                      Web developer        0\n",
       "9326       Web developer; Desktop applications developer        0\n",
       "10730  Web developer; Developer with a statistics or ...        1\n",
       "29443                                                NaN        0\n",
       "38499                                                NaN        0\n",
       "3236                     Web developer; Mobile developer        0\n",
       "37629                                                NaN        0\n",
       "24458                                                NaN        0\n",
       "19225                                  DevOps specialist        0\n",
       "17473              Web developer; Database administrator        0"
      ]
     },
     "execution_count": 27,
     "metadata": {},
     "output_type": "execute_result"
    }
   ],
   "source": [
    "# Sanity Test\n",
    "df[['DeveloperType', 'is_data']].sample(10)"
   ]
  },
  {
   "cell_type": "code",
   "execution_count": 28,
   "metadata": {
    "ExecuteTime": {
     "end_time": "2018-09-05T15:15:11.532256Z",
     "start_time": "2018-09-05T15:15:11.515000Z"
    }
   },
   "outputs": [],
   "source": [
    "# Rename for better plotting\n",
    "df['is_data'] = df.is_data.map({0:'Other Developer', 1: 'Data Science Developer'})"
   ]
  },
  {
   "cell_type": "code",
   "execution_count": 29,
   "metadata": {
    "ExecuteTime": {
     "end_time": "2018-09-05T15:15:12.068589Z",
     "start_time": "2018-09-05T15:15:11.533604Z"
    }
   },
   "outputs": [
    {
     "name": "stdout",
     "output_type": "stream",
     "text": [
      "Total No. of is_data:51392\n"
     ]
    },
    {
     "data": {
      "image/png": "[encoded data removed]",
      "text/plain": [
       "<Figure size 1152x576 with 3 Axes>"
      ]
     },
     "metadata": {
      "image/png": {
       "height": 482,
       "width": 937
      }
     },
     "output_type": "display_data"
    }
   ],
   "source": [
    "Groupby_OneCol_comp_plot(df, 'is_data', plt_style = 'seaborn-ticks', color_palette = ['darkcyan','darkgrey'], title='')"
   ]
  },
  {
   "cell_type": "code",
   "execution_count": 30,
   "metadata": {
    "ExecuteTime": {
     "end_time": "2018-09-05T15:15:12.141889Z",
     "start_time": "2018-09-05T15:15:12.070422Z"
    }
   },
   "outputs": [],
   "source": [
    "# Create a developer and a data science dataset\n",
    "df_dev = df[df.is_data == 'Other Developer']\n",
    "df_ds = df[df.is_data != 'Other Developer']"
   ]
  },
  {
   "cell_type": "code",
   "execution_count": 31,
   "metadata": {
    "ExecuteTime": {
     "end_time": "2018-09-05T15:15:12.159239Z",
     "start_time": "2018-09-05T15:15:12.145080Z"
    }
   },
   "outputs": [
    {
     "data": {
      "text/plain": [
       "Index(['Respondent', 'Professional', 'ProgramHobby', 'Country', 'University',\n",
       "       'EmploymentStatus', 'FormalEducation', 'MajorUndergrad', 'HomeRemote',\n",
       "       'CompanySize',\n",
       "       ...\n",
       "       'StackOverflowMakeMoney', 'Gender', 'HighestEducationParents', 'Race',\n",
       "       'SurveyLong', 'QuestionsInteresting', 'QuestionsConfusing',\n",
       "       'InterestedAnswers', 'Salary', 'is_data'],\n",
       "      dtype='object', length=142)"
      ]
     },
     "execution_count": 31,
     "metadata": {},
     "output_type": "execute_result"
    }
   ],
   "source": [
    "df.columns"
   ]
  },
  {
   "cell_type": "markdown",
   "metadata": {},
   "source": [
    "### Any differences in working habits?"
   ]
  },
  {
   "cell_type": "markdown",
   "metadata": {},
   "source": [
    "#### Difference in remote working habits"
   ]
  },
  {
   "cell_type": "code",
   "execution_count": 32,
   "metadata": {
    "ExecuteTime": {
     "end_time": "2018-09-05T15:15:12.175109Z",
     "start_time": "2018-09-05T15:15:12.161165Z"
    }
   },
   "outputs": [
    {
     "data": {
      "text/plain": [
       "'How often do you work from home or remotely?'"
      ]
     },
     "execution_count": 32,
     "metadata": {},
     "output_type": "execute_result"
    }
   ],
   "source": [
    "get_description('HomeRemote')"
   ]
  },
  {
   "cell_type": "code",
   "execution_count": 33,
   "metadata": {
    "ExecuteTime": {
     "end_time": "2018-09-05T15:15:12.192711Z",
     "start_time": "2018-09-05T15:15:12.176662Z"
    }
   },
   "outputs": [
    {
     "name": "stdout",
     "output_type": "stream",
     "text": [
      "Percentage of NaNs in HomeRemote:  14.37 %\n"
     ]
    }
   ],
   "source": [
    "print_perc_nans(df, 'HomeRemote')"
   ]
  },
  {
   "cell_type": "markdown",
   "metadata": {},
   "source": [
    "We will not use the rows with missing data as they are not included in the `groupby` operations."
   ]
  },
  {
   "cell_type": "code",
   "execution_count": 34,
   "metadata": {
    "ExecuteTime": {
     "end_time": "2018-09-05T15:15:12.217596Z",
     "start_time": "2018-09-05T15:15:12.194204Z"
    }
   },
   "outputs": [
    {
     "data": {
      "text/plain": [
       "A few days each month                                      15454\n",
       "Never                                                      13975\n",
       "All or almost all the time (I'm full-time remote)           4905\n",
       "Less than half the time, but at least one day each week     4147\n",
       "More than half, but not all, the time                       1909\n",
       "It's complicated                                            1849\n",
       "About half the time                                         1769\n",
       "Name: HomeRemote, dtype: int64"
      ]
     },
     "execution_count": 34,
     "metadata": {},
     "output_type": "execute_result"
    }
   ],
   "source": [
    "df.HomeRemote.value_counts()"
   ]
  },
  {
   "cell_type": "code",
   "execution_count": 35,
   "metadata": {
    "ExecuteTime": {
     "end_time": "2018-09-05T15:15:12.255478Z",
     "start_time": "2018-09-05T15:15:12.219477Z"
    }
   },
   "outputs": [
    {
     "data": {
      "text/html": [
       "<div>\n",
       "<style scoped>\n",
       "    .dataframe tbody tr th:only-of-type {\n",
       "        vertical-align: middle;\n",
       "    }\n",
       "\n",
       "    .dataframe tbody tr th {\n",
       "        vertical-align: top;\n",
       "    }\n",
       "\n",
       "    .dataframe thead th {\n",
       "        text-align: right;\n",
       "    }\n",
       "</style>\n",
       "<table border=\"1\" class=\"dataframe\">\n",
       "  <thead>\n",
       "    <tr style=\"text-align: right;\">\n",
       "      <th></th>\n",
       "      <th>is_data</th>\n",
       "      <th>HomeRemote</th>\n",
       "      <th>percentage</th>\n",
       "    </tr>\n",
       "  </thead>\n",
       "  <tbody>\n",
       "    <tr>\n",
       "      <th>0</th>\n",
       "      <td>Data Science Developer</td>\n",
       "      <td>A few days each month</td>\n",
       "      <td>37.772712</td>\n",
       "    </tr>\n",
       "    <tr>\n",
       "      <th>7</th>\n",
       "      <td>Other Developer</td>\n",
       "      <td>A few days each month</td>\n",
       "      <td>34.685470</td>\n",
       "    </tr>\n",
       "    <tr>\n",
       "      <th>5</th>\n",
       "      <td>Data Science Developer</td>\n",
       "      <td>About half the time</td>\n",
       "      <td>4.265711</td>\n",
       "    </tr>\n",
       "    <tr>\n",
       "      <th>13</th>\n",
       "      <td>Other Developer</td>\n",
       "      <td>About half the time</td>\n",
       "      <td>3.979824</td>\n",
       "    </tr>\n",
       "    <tr>\n",
       "      <th>2</th>\n",
       "      <td>Data Science Developer</td>\n",
       "      <td>All or almost all the time (I'm full-time remote)</td>\n",
       "      <td>11.738847</td>\n",
       "    </tr>\n",
       "    <tr>\n",
       "      <th>9</th>\n",
       "      <td>Other Developer</td>\n",
       "      <td>All or almost all the time (I'm full-time remote)</td>\n",
       "      <td>11.049490</td>\n",
       "    </tr>\n",
       "    <tr>\n",
       "      <th>6</th>\n",
       "      <td>Data Science Developer</td>\n",
       "      <td>It's complicated</td>\n",
       "      <td>4.102898</td>\n",
       "    </tr>\n",
       "    <tr>\n",
       "      <th>12</th>\n",
       "      <td>Other Developer</td>\n",
       "      <td>It's complicated</td>\n",
       "      <td>4.217504</td>\n",
       "    </tr>\n",
       "    <tr>\n",
       "      <th>3</th>\n",
       "      <td>Data Science Developer</td>\n",
       "      <td>Less than half the time, but at least one day ...</td>\n",
       "      <td>10.794529</td>\n",
       "    </tr>\n",
       "    <tr>\n",
       "      <th>10</th>\n",
       "      <td>Other Developer</td>\n",
       "      <td>Less than half the time, but at least one day ...</td>\n",
       "      <td>9.200866</td>\n",
       "    </tr>\n",
       "    <tr>\n",
       "      <th>4</th>\n",
       "      <td>Data Science Developer</td>\n",
       "      <td>More than half, but not all, the time</td>\n",
       "      <td>5.030935</td>\n",
       "    </tr>\n",
       "    <tr>\n",
       "      <th>11</th>\n",
       "      <td>Other Developer</td>\n",
       "      <td>More than half, but not all, the time</td>\n",
       "      <td>4.225427</td>\n",
       "    </tr>\n",
       "    <tr>\n",
       "      <th>1</th>\n",
       "      <td>Data Science Developer</td>\n",
       "      <td>Never</td>\n",
       "      <td>26.294367</td>\n",
       "    </tr>\n",
       "    <tr>\n",
       "      <th>8</th>\n",
       "      <td>Other Developer</td>\n",
       "      <td>Never</td>\n",
       "      <td>32.641420</td>\n",
       "    </tr>\n",
       "  </tbody>\n",
       "</table>\n",
       "</div>"
      ],
      "text/plain": [
       "                   is_data                                         HomeRemote  \\\n",
       "0   Data Science Developer                              A few days each month   \n",
       "7          Other Developer                              A few days each month   \n",
       "5   Data Science Developer                                About half the time   \n",
       "13         Other Developer                                About half the time   \n",
       "2   Data Science Developer  All or almost all the time (I'm full-time remote)   \n",
       "9          Other Developer  All or almost all the time (I'm full-time remote)   \n",
       "6   Data Science Developer                                   It's complicated   \n",
       "12         Other Developer                                   It's complicated   \n",
       "3   Data Science Developer  Less than half the time, but at least one day ...   \n",
       "10         Other Developer  Less than half the time, but at least one day ...   \n",
       "4   Data Science Developer              More than half, but not all, the time   \n",
       "11         Other Developer              More than half, but not all, the time   \n",
       "1   Data Science Developer                                              Never   \n",
       "8          Other Developer                                              Never   \n",
       "\n",
       "    percentage  \n",
       "0    37.772712  \n",
       "7    34.685470  \n",
       "5     4.265711  \n",
       "13    3.979824  \n",
       "2    11.738847  \n",
       "9    11.049490  \n",
       "6     4.102898  \n",
       "12    4.217504  \n",
       "3    10.794529  \n",
       "10    9.200866  \n",
       "4     5.030935  \n",
       "11    4.225427  \n",
       "1    26.294367  \n",
       "8    32.641420  "
      ]
     },
     "execution_count": 35,
     "metadata": {},
     "output_type": "execute_result"
    }
   ],
   "source": [
    "group(df, 'is_data', 'HomeRemote')"
   ]
  },
  {
   "cell_type": "code",
   "execution_count": 36,
   "metadata": {
    "ExecuteTime": {
     "end_time": "2018-09-05T15:15:12.684536Z",
     "start_time": "2018-09-05T15:15:12.257064Z"
    }
   },
   "outputs": [
    {
     "data": {
      "image/png": "[encoded data removed]",
      "text/plain": [
       "<Figure size 1008x576 with 1 Axes>"
      ]
     },
     "metadata": {
      "image/png": {
       "height": 484,
       "width": 1052
      }
     },
     "output_type": "display_data"
    }
   ],
   "source": [
    "group_plot(df, 'is_data', 'HomeRemote', prop=True, orient='h')\n",
    "plt.xlabel('Percentage %')\n",
    "plt.ylabel('');"
   ]
  },
  {
   "cell_type": "markdown",
   "metadata": {},
   "source": [
    "Data scientists seem to have slightly better working habits with 5% more working remotely a few days per month and 5 % less that respond never. Let's see if that has something to  do with job satisfaction."
   ]
  },
  {
   "cell_type": "markdown",
   "metadata": {},
   "source": [
    "#### Difference in working hours"
   ]
  },
  {
   "cell_type": "code",
   "execution_count": 37,
   "metadata": {
    "ExecuteTime": {
     "end_time": "2018-09-05T15:15:12.700556Z",
     "start_time": "2018-09-05T15:15:12.685745Z"
    }
   },
   "outputs": [
    {
     "data": {
      "text/plain": [
       "'Do you program as a hobby or contribute to open source projects?'"
      ]
     },
     "execution_count": 37,
     "metadata": {},
     "output_type": "execute_result"
    }
   ],
   "source": [
    "get_description('ProgramHobby')"
   ]
  },
  {
   "cell_type": "code",
   "execution_count": 38,
   "metadata": {
    "ExecuteTime": {
     "end_time": "2018-09-05T15:15:12.719858Z",
     "start_time": "2018-09-05T15:15:12.702173Z"
    }
   },
   "outputs": [
    {
     "name": "stdout",
     "output_type": "stream",
     "text": [
      "Percentage of NaNs in ProgramHobby:  0.0 %\n"
     ]
    }
   ],
   "source": [
    "print_perc_nans(df, 'ProgramHobby')"
   ]
  },
  {
   "cell_type": "code",
   "execution_count": 39,
   "metadata": {
    "ExecuteTime": {
     "end_time": "2018-09-05T15:15:12.744383Z",
     "start_time": "2018-09-05T15:15:12.721786Z"
    }
   },
   "outputs": [
    {
     "data": {
      "text/plain": [
       "Yes, I program as a hobby                    24801\n",
       "Yes, both                                    13756\n",
       "No                                            9787\n",
       "Yes, I contribute to open source projects     3048\n",
       "Name: ProgramHobby, dtype: int64"
      ]
     },
     "execution_count": 39,
     "metadata": {},
     "output_type": "execute_result"
    }
   ],
   "source": [
    "df.ProgramHobby.value_counts()"
   ]
  },
  {
   "cell_type": "code",
   "execution_count": 40,
   "metadata": {
    "ExecuteTime": {
     "end_time": "2018-09-05T15:15:12.776751Z",
     "start_time": "2018-09-05T15:15:12.745859Z"
    }
   },
   "outputs": [
    {
     "data": {
      "text/html": [
       "<div>\n",
       "<style scoped>\n",
       "    .dataframe tbody tr th:only-of-type {\n",
       "        vertical-align: middle;\n",
       "    }\n",
       "\n",
       "    .dataframe tbody tr th {\n",
       "        vertical-align: top;\n",
       "    }\n",
       "\n",
       "    .dataframe thead th {\n",
       "        text-align: right;\n",
       "    }\n",
       "</style>\n",
       "<table border=\"1\" class=\"dataframe\">\n",
       "  <thead>\n",
       "    <tr style=\"text-align: right;\">\n",
       "      <th></th>\n",
       "      <th>is_data</th>\n",
       "      <th>ProgramHobby</th>\n",
       "      <th>percentage</th>\n",
       "    </tr>\n",
       "  </thead>\n",
       "  <tbody>\n",
       "    <tr>\n",
       "      <th>2</th>\n",
       "      <td>Data Science Developer</td>\n",
       "      <td>No</td>\n",
       "      <td>16.747993</td>\n",
       "    </tr>\n",
       "    <tr>\n",
       "      <th>6</th>\n",
       "      <td>Other Developer</td>\n",
       "      <td>No</td>\n",
       "      <td>19.367659</td>\n",
       "    </tr>\n",
       "    <tr>\n",
       "      <th>3</th>\n",
       "      <td>Data Science Developer</td>\n",
       "      <td>Yes, I contribute to open source projects</td>\n",
       "      <td>7.256414</td>\n",
       "    </tr>\n",
       "    <tr>\n",
       "      <th>7</th>\n",
       "      <td>Other Developer</td>\n",
       "      <td>Yes, I contribute to open source projects</td>\n",
       "      <td>5.743911</td>\n",
       "    </tr>\n",
       "    <tr>\n",
       "      <th>0</th>\n",
       "      <td>Data Science Developer</td>\n",
       "      <td>Yes, I program as a hobby</td>\n",
       "      <td>42.531088</td>\n",
       "    </tr>\n",
       "    <tr>\n",
       "      <th>4</th>\n",
       "      <td>Other Developer</td>\n",
       "      <td>Yes, I program as a hobby</td>\n",
       "      <td>49.066365</td>\n",
       "    </tr>\n",
       "    <tr>\n",
       "      <th>1</th>\n",
       "      <td>Data Science Developer</td>\n",
       "      <td>Yes, both</td>\n",
       "      <td>33.464505</td>\n",
       "    </tr>\n",
       "    <tr>\n",
       "      <th>5</th>\n",
       "      <td>Other Developer</td>\n",
       "      <td>Yes, both</td>\n",
       "      <td>25.822065</td>\n",
       "    </tr>\n",
       "  </tbody>\n",
       "</table>\n",
       "</div>"
      ],
      "text/plain": [
       "                  is_data                               ProgramHobby  \\\n",
       "2  Data Science Developer                                         No   \n",
       "6         Other Developer                                         No   \n",
       "3  Data Science Developer  Yes, I contribute to open source projects   \n",
       "7         Other Developer  Yes, I contribute to open source projects   \n",
       "0  Data Science Developer                  Yes, I program as a hobby   \n",
       "4         Other Developer                  Yes, I program as a hobby   \n",
       "1  Data Science Developer                                  Yes, both   \n",
       "5         Other Developer                                  Yes, both   \n",
       "\n",
       "   percentage  \n",
       "2   16.747993  \n",
       "6   19.367659  \n",
       "3    7.256414  \n",
       "7    5.743911  \n",
       "0   42.531088  \n",
       "4   49.066365  \n",
       "1   33.464505  \n",
       "5   25.822065  "
      ]
     },
     "execution_count": 40,
     "metadata": {},
     "output_type": "execute_result"
    }
   ],
   "source": [
    "group(df, 'is_data', 'ProgramHobby')"
   ]
  },
  {
   "cell_type": "code",
   "execution_count": 41,
   "metadata": {
    "ExecuteTime": {
     "end_time": "2018-09-05T15:15:12.806278Z",
     "start_time": "2018-09-05T15:15:12.778410Z"
    }
   },
   "outputs": [
    {
     "data": {
      "text/plain": [
       "83.25200692586179"
      ]
     },
     "execution_count": 41,
     "metadata": {},
     "output_type": "execute_result"
    }
   ],
   "source": [
    "# Tota; number of ds devs that program out of work\n",
    "group(df, 'is_data', 'ProgramHobby').iloc[:, -1][::2][1:].sum()"
   ]
  },
  {
   "cell_type": "code",
   "execution_count": 42,
   "metadata": {
    "ExecuteTime": {
     "end_time": "2018-09-05T15:15:12.834444Z",
     "start_time": "2018-09-05T15:15:12.807603Z"
    }
   },
   "outputs": [
    {
     "data": {
      "text/plain": [
       "80.63234086014344"
      ]
     },
     "execution_count": 42,
     "metadata": {},
     "output_type": "execute_result"
    }
   ],
   "source": [
    "# Tota; number of other devs that program out of work\n",
    "group(df, 'is_data', 'ProgramHobby').iloc[:, -1][1:][::2][1:].sum()"
   ]
  },
  {
   "cell_type": "code",
   "execution_count": 43,
   "metadata": {
    "ExecuteTime": {
     "end_time": "2018-09-05T15:15:13.215885Z",
     "start_time": "2018-09-05T15:15:12.835836Z"
    }
   },
   "outputs": [
    {
     "data": {
      "image/png": "[encoded data removed]",
      "text/plain": [
       "<Figure size 1008x576 with 1 Axes>"
      ]
     },
     "metadata": {
      "image/png": {
       "height": 484,
       "width": 987
      }
     },
     "output_type": "display_data"
    }
   ],
   "source": [
    "group_plot(df, 'is_data', 'ProgramHobby', prop=True, orient='h')\n",
    "plt.xlabel('Percentage %')\n",
    "plt.ylabel('');"
   ]
  },
  {
   "cell_type": "markdown",
   "metadata": {},
   "source": [
    "### Difference in job satisfaction"
   ]
  },
  {
   "cell_type": "code",
   "execution_count": 44,
   "metadata": {
    "ExecuteTime": {
     "end_time": "2018-09-05T15:15:13.231294Z",
     "start_time": "2018-09-05T15:15:13.217668Z"
    }
   },
   "outputs": [
    {
     "data": {
      "text/plain": [
       "'Job satisfaction rating'"
      ]
     },
     "execution_count": 44,
     "metadata": {},
     "output_type": "execute_result"
    }
   ],
   "source": [
    "get_description('JobSatisfaction')"
   ]
  },
  {
   "cell_type": "code",
   "execution_count": 45,
   "metadata": {
    "ExecuteTime": {
     "end_time": "2018-09-05T15:15:13.248461Z",
     "start_time": "2018-09-05T15:15:13.233384Z"
    }
   },
   "outputs": [
    {
     "name": "stdout",
     "output_type": "stream",
     "text": [
      "Percentage of NaNs in ProgramHobby:  0.0 %\n"
     ]
    }
   ],
   "source": [
    "print_perc_nans(df, 'ProgramHobby')"
   ]
  },
  {
   "cell_type": "code",
   "execution_count": 46,
   "metadata": {
    "ExecuteTime": {
     "end_time": "2018-09-05T15:15:13.267374Z",
     "start_time": "2018-09-05T15:15:13.249861Z"
    }
   },
   "outputs": [
    {
     "data": {
      "text/plain": [
       "8.0     8983\n",
       "7.0     7969\n",
       "9.0     5573\n",
       "6.0     4726\n",
       "10.0    4148\n",
       "5.0     3749\n",
       "4.0     1865\n",
       "3.0     1635\n",
       "2.0      888\n",
       "0.0      467\n",
       "1.0      373\n",
       "Name: JobSatisfaction, dtype: int64"
      ]
     },
     "execution_count": 46,
     "metadata": {},
     "output_type": "execute_result"
    }
   ],
   "source": [
    "df.JobSatisfaction.value_counts()"
   ]
  },
  {
   "cell_type": "code",
   "execution_count": 47,
   "metadata": {
    "ExecuteTime": {
     "end_time": "2018-09-05T15:15:13.301433Z",
     "start_time": "2018-09-05T15:15:13.268812Z"
    }
   },
   "outputs": [
    {
     "data": {
      "text/html": [
       "<div>\n",
       "<style scoped>\n",
       "    .dataframe tbody tr th:only-of-type {\n",
       "        vertical-align: middle;\n",
       "    }\n",
       "\n",
       "    .dataframe tbody tr th {\n",
       "        vertical-align: top;\n",
       "    }\n",
       "\n",
       "    .dataframe thead th {\n",
       "        text-align: right;\n",
       "    }\n",
       "</style>\n",
       "<table border=\"1\" class=\"dataframe\">\n",
       "  <thead>\n",
       "    <tr style=\"text-align: right;\">\n",
       "      <th></th>\n",
       "      <th>is_data</th>\n",
       "      <th>JobSatisfaction</th>\n",
       "      <th>percentage</th>\n",
       "    </tr>\n",
       "  </thead>\n",
       "  <tbody>\n",
       "    <tr>\n",
       "      <th>20</th>\n",
       "      <td>Other Developer</td>\n",
       "      <td>0.0</td>\n",
       "      <td>1.104763</td>\n",
       "    </tr>\n",
       "    <tr>\n",
       "      <th>9</th>\n",
       "      <td>Data Science Developer</td>\n",
       "      <td>0.0</td>\n",
       "      <td>1.449753</td>\n",
       "    </tr>\n",
       "    <tr>\n",
       "      <th>10</th>\n",
       "      <td>Data Science Developer</td>\n",
       "      <td>1.0</td>\n",
       "      <td>0.708402</td>\n",
       "    </tr>\n",
       "    <tr>\n",
       "      <th>21</th>\n",
       "      <td>Other Developer</td>\n",
       "      <td>1.0</td>\n",
       "      <td>0.961931</td>\n",
       "    </tr>\n",
       "    <tr>\n",
       "      <th>8</th>\n",
       "      <td>Data Science Developer</td>\n",
       "      <td>2.0</td>\n",
       "      <td>1.943987</td>\n",
       "    </tr>\n",
       "    <tr>\n",
       "      <th>19</th>\n",
       "      <td>Other Developer</td>\n",
       "      <td>2.0</td>\n",
       "      <td>2.244505</td>\n",
       "    </tr>\n",
       "    <tr>\n",
       "      <th>7</th>\n",
       "      <td>Data Science Developer</td>\n",
       "      <td>3.0</td>\n",
       "      <td>3.690280</td>\n",
       "    </tr>\n",
       "    <tr>\n",
       "      <th>18</th>\n",
       "      <td>Other Developer</td>\n",
       "      <td>3.0</td>\n",
       "      <td>4.112983</td>\n",
       "    </tr>\n",
       "    <tr>\n",
       "      <th>6</th>\n",
       "      <td>Data Science Developer</td>\n",
       "      <td>4.0</td>\n",
       "      <td>4.052718</td>\n",
       "    </tr>\n",
       "    <tr>\n",
       "      <th>17</th>\n",
       "      <td>Other Developer</td>\n",
       "      <td>4.0</td>\n",
       "      <td>4.719291</td>\n",
       "    </tr>\n",
       "    <tr>\n",
       "      <th>5</th>\n",
       "      <td>Data Science Developer</td>\n",
       "      <td>5.0</td>\n",
       "      <td>8.467875</td>\n",
       "    </tr>\n",
       "    <tr>\n",
       "      <th>16</th>\n",
       "      <td>Other Developer</td>\n",
       "      <td>5.0</td>\n",
       "      <td>9.429837</td>\n",
       "    </tr>\n",
       "    <tr>\n",
       "      <th>4</th>\n",
       "      <td>Data Science Developer</td>\n",
       "      <td>6.0</td>\n",
       "      <td>10.345964</td>\n",
       "    </tr>\n",
       "    <tr>\n",
       "      <th>14</th>\n",
       "      <td>Other Developer</td>\n",
       "      <td>6.0</td>\n",
       "      <td>11.945432</td>\n",
       "    </tr>\n",
       "    <tr>\n",
       "      <th>12</th>\n",
       "      <td>Other Developer</td>\n",
       "      <td>7.0</td>\n",
       "      <td>19.882819</td>\n",
       "    </tr>\n",
       "    <tr>\n",
       "      <th>1</th>\n",
       "      <td>Data Science Developer</td>\n",
       "      <td>7.0</td>\n",
       "      <td>18.912685</td>\n",
       "    </tr>\n",
       "    <tr>\n",
       "      <th>11</th>\n",
       "      <td>Other Developer</td>\n",
       "      <td>8.0</td>\n",
       "      <td>22.136069</td>\n",
       "    </tr>\n",
       "    <tr>\n",
       "      <th>0</th>\n",
       "      <td>Data Science Developer</td>\n",
       "      <td>8.0</td>\n",
       "      <td>22.883031</td>\n",
       "    </tr>\n",
       "    <tr>\n",
       "      <th>2</th>\n",
       "      <td>Data Science Developer</td>\n",
       "      <td>9.0</td>\n",
       "      <td>15.766063</td>\n",
       "    </tr>\n",
       "    <tr>\n",
       "      <th>13</th>\n",
       "      <td>Other Developer</td>\n",
       "      <td>9.0</td>\n",
       "      <td>13.455372</td>\n",
       "    </tr>\n",
       "    <tr>\n",
       "      <th>15</th>\n",
       "      <td>Other Developer</td>\n",
       "      <td>10.0</td>\n",
       "      <td>10.006996</td>\n",
       "    </tr>\n",
       "    <tr>\n",
       "      <th>3</th>\n",
       "      <td>Data Science Developer</td>\n",
       "      <td>10.0</td>\n",
       "      <td>11.779242</td>\n",
       "    </tr>\n",
       "  </tbody>\n",
       "</table>\n",
       "</div>"
      ],
      "text/plain": [
       "                   is_data  JobSatisfaction  percentage\n",
       "20         Other Developer              0.0    1.104763\n",
       "9   Data Science Developer              0.0    1.449753\n",
       "10  Data Science Developer              1.0    0.708402\n",
       "21         Other Developer              1.0    0.961931\n",
       "8   Data Science Developer              2.0    1.943987\n",
       "19         Other Developer              2.0    2.244505\n",
       "7   Data Science Developer              3.0    3.690280\n",
       "18         Other Developer              3.0    4.112983\n",
       "6   Data Science Developer              4.0    4.052718\n",
       "17         Other Developer              4.0    4.719291\n",
       "5   Data Science Developer              5.0    8.467875\n",
       "16         Other Developer              5.0    9.429837\n",
       "4   Data Science Developer              6.0   10.345964\n",
       "14         Other Developer              6.0   11.945432\n",
       "12         Other Developer              7.0   19.882819\n",
       "1   Data Science Developer              7.0   18.912685\n",
       "11         Other Developer              8.0   22.136069\n",
       "0   Data Science Developer              8.0   22.883031\n",
       "2   Data Science Developer              9.0   15.766063\n",
       "13         Other Developer              9.0   13.455372\n",
       "15         Other Developer             10.0   10.006996\n",
       "3   Data Science Developer             10.0   11.779242"
      ]
     },
     "execution_count": 47,
     "metadata": {},
     "output_type": "execute_result"
    }
   ],
   "source": [
    "group(df, 'is_data', 'JobSatisfaction')"
   ]
  },
  {
   "cell_type": "code",
   "execution_count": 48,
   "metadata": {
    "ExecuteTime": {
     "end_time": "2018-09-05T15:15:13.705894Z",
     "start_time": "2018-09-05T15:15:13.302873Z"
    },
    "scrolled": false
   },
   "outputs": [
    {
     "data": {
      "image/png": "[encoded data removed]",
      "text/plain": [
       "<Figure size 1008x576 with 1 Axes>"
      ]
     },
     "metadata": {
      "image/png": {
       "height": 484,
       "width": 832
      }
     },
     "output_type": "display_data"
    }
   ],
   "source": [
    "group_plot(df, 'is_data', 'JobSatisfaction', orient='v')\n",
    "plt.xlabel('Job Satisfaction Rating ')\n",
    "plt.ylabel('Percentage % ')\n",
    "plt.legend(title='', loc='upper left');"
   ]
  },
  {
   "cell_type": "code",
   "execution_count": 49,
   "metadata": {
    "ExecuteTime": {
     "end_time": "2018-09-05T15:15:13.725613Z",
     "start_time": "2018-09-05T15:15:13.708011Z"
    }
   },
   "outputs": [
    {
     "data": {
      "text/plain": [
       "is_data\n",
       "Data Science Developer    7.114333\n",
       "Other Developer           6.929254\n",
       "Name: JobSatisfaction, dtype: float64"
      ]
     },
     "execution_count": 49,
     "metadata": {},
     "output_type": "execute_result"
    }
   ],
   "source": [
    "av_job_sat = df.groupby(['is_data'])['JobSatisfaction'].mean()\n",
    "av_job_sat"
   ]
  },
  {
   "cell_type": "code",
   "execution_count": 50,
   "metadata": {
    "ExecuteTime": {
     "end_time": "2018-09-05T15:15:13.742204Z",
     "start_time": "2018-09-05T15:15:13.727143Z"
    }
   },
   "outputs": [
    {
     "data": {
      "text/plain": [
       "-2.670971749462139"
      ]
     },
     "execution_count": 50,
     "metadata": {},
     "output_type": "execute_result"
    }
   ],
   "source": [
    "(av_job_sat.diff()[-1] / av_job_sat[1]) * 100"
   ]
  },
  {
   "cell_type": "markdown",
   "metadata": {},
   "source": [
    "Average job satisfaction is 7.11 for DS developers, compared to  6.93 to other developers which is a small difference of 2.67 %. Let's check for significance in this results."
   ]
  },
  {
   "cell_type": "code",
   "execution_count": 51,
   "metadata": {
    "ExecuteTime": {
     "end_time": "2018-09-05T15:15:13.762835Z",
     "start_time": "2018-09-05T15:15:13.743565Z"
    }
   },
   "outputs": [
    {
     "name": "stdout",
     "output_type": "stream",
     "text": [
      " chi2: 47.80191282167782\n",
      " p: 6.745505774525362e-07\n",
      " dof: 10\n",
      " ex: [[7632.52422231 6770.96577175 4735.17282544 4089.4288191  3450.48211809\n",
      "  3185.38721022 1584.62180503 1389.1992768   754.50089162  396.79269863\n",
      "   316.92436101]\n",
      " [1350.47577769 1198.03422825  837.82717456  723.5711809   610.51788191\n",
      "   563.61278978  280.37819497  245.8007232   133.49910838   70.20730137\n",
      "    56.07563899]]\n"
     ]
    }
   ],
   "source": [
    "from scipy.stats import chi2_contingency\n",
    "\n",
    "cont_table = np.array([df_dev.JobSatisfaction.value_counts(),\n",
    "                       df_ds.JobSatisfaction.value_counts()]              \n",
    "                     )\n",
    "chi2, p, dof, ex = chi2_contingency(cont_table)\n",
    "\n",
    "print(f' chi2: {chi2}\\n p: {p}\\n dof: {dof}\\n ex: {ex}')"
   ]
  },
  {
   "cell_type": "markdown",
   "metadata": {},
   "source": [
    "We perform a `Chi-Square Test for Independence`[[1]](#[1]) to determine whether the Developer type( Data science or other) is related to Job satisfaction.\n",
    "\n",
    "`Ho`: The developer type and job satisfaction are independent (Knowing the level of Variable A does not help you predict the level of Variable B).\n",
    "\n",
    "`Ha`: The developer type and job satisfaction are **not** independent(Knowing the level of Variable A does help you predict the level of Variable B).\n",
    "\n",
    "`p_value` is < 0.05. The P-value here is the probability of observing a sample statistic as extreme as the test statistic. If the sample findings are unlikely, given the null hypothesis, the researcher rejects the null hypothesis.\n",
    "\n",
    "We reject the null hypothesis and conclude that Variable A and Variable B are **not independent** and thus, we conclude that there is a relationship between watching the developer type (data scientist or other developer) and job satisfaction"
   ]
  },
  {
   "cell_type": "markdown",
   "metadata": {
    "ExecuteTime": {
     "end_time": "2018-09-05T04:31:45.346587Z",
     "start_time": "2018-09-05T04:31:45.317174Z"
    }
   },
   "source": [
    "It seems that working as a data is a good predictor of relative job satisfaction."
   ]
  },
  {
   "cell_type": "markdown",
   "metadata": {},
   "source": [
    "## References - Sources\n",
    "\n",
    "[1]<a name='[1]'></a>:<https://stattrek.com/chi-square-test/independence.aspx>  \n",
    "[2]<a name='[2]'></a>:<https://stackoverflow.com/questions/28468584/seaborn-factorplot-set-series-order-of-display-in-legend>  \n",
    "[3]<a name='[3]'></a>:https://medium.com/@josh_2774/how-do-you-become-a-developer-5ef1c1c68711  \n",
    "[4]<a name='[4]'></a>https://www.kaggle.com/stackoverflow/so-survey-20171  "
   ]
  }
 ],
 "metadata": {
  "hide_input": false,
  "kernelspec": {
   "display_name": "Python 3",
   "language": "python",
   "name": "python3"
  },
  "language_info": {
   "codemirror_mode": {
    "name": "ipython",
    "version": 3
   },
   "file_extension": ".py",
   "mimetype": "text/x-python",
   "name": "python",
   "nbconvert_exporter": "python",
   "pygments_lexer": "ipython3",
   "version": "3.6.4"
  },
  "toc": {
   "nav_menu": {},
   "number_sections": true,
   "sideBar": true,
   "skip_h1_title": false,
   "title_cell": "Table of Contents",
   "title_sidebar": "Contents",
   "toc_cell": true,
   "toc_position": {
    "height": "692px",
    "left": "29px",
    "top": "111px",
    "width": "349px"
   },
   "toc_section_display": true,
   "toc_window_display": true
  },
  "varInspector": {
   "cols": {
    "lenName": 16,
    "lenType": 16,
    "lenVar": 40
   },
   "kernels_config": {
    "python": {
     "delete_cmd_postfix": "",
     "delete_cmd_prefix": "del ",
     "library": "var_list.py",
     "varRefreshCmd": "print(var_dic_list())"
    },
    "r": {
     "delete_cmd_postfix": ") ",
     "delete_cmd_prefix": "rm(",
     "library": "var_list.r",
     "varRefreshCmd": "cat(var_dic_list()) "
    }
   },
   "types_to_exclude": [
    "module",
    "function",
    "builtin_function_or_method",
    "instance",
    "_Feature"
   ],
   "window_display": false
  }
 },
 "nbformat": 4,
 "nbformat_minor": 2
}
